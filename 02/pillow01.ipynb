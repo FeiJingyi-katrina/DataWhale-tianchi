{
 "cells": [
  {
   "cell_type": "code",
   "execution_count": 2,
   "metadata": {},
   "outputs": [],
   "source": [
    "from PIL import Image\n",
    "import os\n",
    "import os.path"
   ]
  },
  {
   "cell_type": "code",
   "execution_count": 35,
   "metadata": {
    "scrolled": true
   },
   "outputs": [
    {
     "name": "stdout",
     "output_type": "stream",
     "text": [
      "parent is :D:/code/cave/stuffed_toys\n",
      "filename is :st1.jpg\n",
      "the fulll name of the file is :D:/code/cave/stuffed_toys\\st1.jpg\n",
      "parent is :D:/code/cave/stuffed_toys\n",
      "filename is :st2.jpg\n",
      "the fulll name of the file is :D:/code/cave/stuffed_toys\\st2.jpg\n",
      "parent is :D:/code/cave/stuffed_toys\n",
      "filename is :st3.jpg\n",
      "the fulll name of the file is :D:/code/cave/stuffed_toys\\st3.jpg\n",
      "parent is :D:/code/cave/stuffed_toys\n",
      "filename is :st4.jpg\n",
      "the fulll name of the file is :D:/code/cave/stuffed_toys\\st4.jpg\n",
      "parent is :D:/code/cave/stuffed_toys\n",
      "filename is :st5.jpg\n",
      "the fulll name of the file is :D:/code/cave/stuffed_toys\\st5.jpg\n",
      "parent is :D:/code/cave/stuffed_toys\n",
      "filename is :st6.jpg\n",
      "the fulll name of the file is :D:/code/cave/stuffed_toys\\st6.jpg\n",
      "parent is :D:/code/cave/stuffed_toys\n",
      "filename is :st7.jpg\n",
      "the fulll name of the file is :D:/code/cave/stuffed_toys\\st7.jpg\n",
      "parent is :D:/code/cave/stuffed_toys\n",
      "filename is :st8.jpg\n",
      "the fulll name of the file is :D:/code/cave/stuffed_toys\\st8.jpg\n",
      "parent is :D:/code/cave/stuffed_toys\n",
      "filename is :st9.jpg\n",
      "the fulll name of the file is :D:/code/cave/stuffed_toys\\st9.jpg\n"
     ]
    }
   ],
   "source": [
    "rootdir = r'D:/code/cave/stuffed_toys'\n",
    "for parent, dirnames, filenames in os.walk(rootdir):\n",
    "    for filename in filenames:\n",
    "        print('parent is :' + parent)\n",
    "        print('filename is :' + filename)\n",
    "        currentPath = os.path.join(parent, filename)\n",
    "        print('the fulll name of the file is :' + currentPath)\n",
    " \n",
    "        im = Image.open(currentPath)\n",
    "        out = im.transpose(Image.FLIP_TOP_BOTTOM)\n",
    "        newname=r\"D:/code/cave/stuffed_toys\"+'\\\\'+filename+\".jpg\"\n",
    "        out.save(newname)"
   ]
  },
  {
   "cell_type": "code",
   "execution_count": 41,
   "metadata": {},
   "outputs": [
    {
     "name": "stdout",
     "output_type": "stream",
     "text": [
      "parent is :D:/code/cave/superballs\n",
      "filename is :sb1.jpg\n",
      "the fulll name of the file is :D:/code/cave/superballs\\sb1.jpg\n",
      "parent is :D:/code/cave/superballs\n",
      "filename is :sb2.jpg\n",
      "the fulll name of the file is :D:/code/cave/superballs\\sb2.jpg\n",
      "parent is :D:/code/cave/superballs\n",
      "filename is :sb3.jpg\n",
      "the fulll name of the file is :D:/code/cave/superballs\\sb3.jpg\n",
      "parent is :D:/code/cave/superballs\n",
      "filename is :sb4.jpg\n",
      "the fulll name of the file is :D:/code/cave/superballs\\sb4.jpg\n",
      "parent is :D:/code/cave/superballs\n",
      "filename is :sb5.jpg\n",
      "the fulll name of the file is :D:/code/cave/superballs\\sb5.jpg\n",
      "parent is :D:/code/cave/superballs\n",
      "filename is :sb6.jpg\n",
      "the fulll name of the file is :D:/code/cave/superballs\\sb6.jpg\n",
      "parent is :D:/code/cave/superballs\n",
      "filename is :sb7.jpg\n",
      "the fulll name of the file is :D:/code/cave/superballs\\sb7.jpg\n",
      "parent is :D:/code/cave/superballs\n",
      "filename is :sb8.jpg\n",
      "the fulll name of the file is :D:/code/cave/superballs\\sb8.jpg\n",
      "parent is :D:/code/cave/superballs\n",
      "filename is :sb9.jpg\n",
      "the fulll name of the file is :D:/code/cave/superballs\\sb9.jpg\n"
     ]
    }
   ],
   "source": [
    "rootdir = r'D:/code/cave/superballs'\n",
    "for parent, dirnames, filenames in os.walk(rootdir):\n",
    "    for filename in filenames:\n",
    "        print('parent is :' + parent)\n",
    "        print('filename is :' + filename)\n",
    "        currentPath = os.path.join(parent, filename)\n",
    "        print('the fulll name of the file is :' + currentPath)\n",
    " \n",
    "        im = Image.open(currentPath)\n",
    "        out = im.transpose(Image.FLIP_TOP_BOTTOM)\n",
    "        newname=r\"D:/code/cave/superballs\"+'\\\\'+filename+\".jpg\"\n",
    "        out.save(newname)"
   ]
  },
  {
   "cell_type": "code",
   "execution_count": 39,
   "metadata": {},
   "outputs": [
    {
     "name": "stdout",
     "output_type": "stream",
     "text": [
      "parent is :D:/code/cave/thread_spools\n",
      "filename is :t1.jpg\n",
      "the fulll name of the file is :D:/code/cave/thread_spools\\t1.jpg\n",
      "parent is :D:/code/cave/thread_spools\n",
      "filename is :t1.jpg.jpg\n",
      "the fulll name of the file is :D:/code/cave/thread_spools\\t1.jpg.jpg\n",
      "parent is :D:/code/cave/thread_spools\n",
      "filename is :t2.jpg\n",
      "the fulll name of the file is :D:/code/cave/thread_spools\\t2.jpg\n",
      "parent is :D:/code/cave/thread_spools\n",
      "filename is :t2.jpg.jpg\n",
      "the fulll name of the file is :D:/code/cave/thread_spools\\t2.jpg.jpg\n",
      "parent is :D:/code/cave/thread_spools\n",
      "filename is :t3.jpg\n",
      "the fulll name of the file is :D:/code/cave/thread_spools\\t3.jpg\n",
      "parent is :D:/code/cave/thread_spools\n",
      "filename is :t3.jpg.jpg\n",
      "the fulll name of the file is :D:/code/cave/thread_spools\\t3.jpg.jpg\n",
      "parent is :D:/code/cave/thread_spools\n",
      "filename is :t4.jpg\n",
      "the fulll name of the file is :D:/code/cave/thread_spools\\t4.jpg\n",
      "parent is :D:/code/cave/thread_spools\n",
      "filename is :t4.jpg.jpg\n",
      "the fulll name of the file is :D:/code/cave/thread_spools\\t4.jpg.jpg\n",
      "parent is :D:/code/cave/thread_spools\n",
      "filename is :t5.jpg\n",
      "the fulll name of the file is :D:/code/cave/thread_spools\\t5.jpg\n",
      "parent is :D:/code/cave/thread_spools\n",
      "filename is :t5.jpg.jpg\n",
      "the fulll name of the file is :D:/code/cave/thread_spools\\t5.jpg.jpg\n",
      "parent is :D:/code/cave/thread_spools\n",
      "filename is :t6.jpg\n",
      "the fulll name of the file is :D:/code/cave/thread_spools\\t6.jpg\n",
      "parent is :D:/code/cave/thread_spools\n",
      "filename is :t6.jpg.jpg\n",
      "the fulll name of the file is :D:/code/cave/thread_spools\\t6.jpg.jpg\n",
      "parent is :D:/code/cave/thread_spools\n",
      "filename is :t7.jpg\n",
      "the fulll name of the file is :D:/code/cave/thread_spools\\t7.jpg\n",
      "parent is :D:/code/cave/thread_spools\n",
      "filename is :t7.jpg.jpg\n",
      "the fulll name of the file is :D:/code/cave/thread_spools\\t7.jpg.jpg\n",
      "parent is :D:/code/cave/thread_spools\n",
      "filename is :t8.jpg\n",
      "the fulll name of the file is :D:/code/cave/thread_spools\\t8.jpg\n",
      "parent is :D:/code/cave/thread_spools\n",
      "filename is :t8.jpg.jpg\n",
      "the fulll name of the file is :D:/code/cave/thread_spools\\t8.jpg.jpg\n",
      "parent is :D:/code/cave/thread_spools\n",
      "filename is :t9.jpg\n",
      "the fulll name of the file is :D:/code/cave/thread_spools\\t9.jpg\n",
      "parent is :D:/code/cave/thread_spools\n",
      "filename is :t9.jpg.jpg\n",
      "the fulll name of the file is :D:/code/cave/thread_spools\\t9.jpg.jpg\n"
     ]
    }
   ],
   "source": [
    "rootdir = r'D:/code/cave/thread_spools'\n",
    "for parent, dirnames, filenames in os.walk(rootdir):\n",
    "    for filename in filenames:\n",
    "        print('parent is :' + parent)\n",
    "        print('filename is :' + filename)\n",
    "        currentPath = os.path.join(parent, filename)\n",
    "        print('the fulll name of the file is :' + currentPath)\n",
    " \n",
    "        im = Image.open(currentPath)\n",
    "        out = im.transpose(Image.FLIP_TOP_BOTTOM)\n",
    "        newname=r\"D:/code/cave/thread_spools\"+'\\\\'+filename+'.jpg'\n",
    "        out.save(newname)"
   ]
  },
  {
   "cell_type": "code",
   "execution_count": 38,
   "metadata": {},
   "outputs": [
    {
     "name": "stdout",
     "output_type": "stream",
     "text": [
      "parent is :D:/code/cave/watercolors\n",
      "filename is :w1.jpg\n",
      "the fulll name of the file is :D:/code/cave/watercolors\\w1.jpg\n",
      "parent is :D:/code/cave/watercolors\n",
      "filename is :w2.jpg\n",
      "the fulll name of the file is :D:/code/cave/watercolors\\w2.jpg\n",
      "parent is :D:/code/cave/watercolors\n",
      "filename is :w3.jpg\n",
      "the fulll name of the file is :D:/code/cave/watercolors\\w3.jpg\n",
      "parent is :D:/code/cave/watercolors\n",
      "filename is :w4.jpg\n",
      "the fulll name of the file is :D:/code/cave/watercolors\\w4.jpg\n",
      "parent is :D:/code/cave/watercolors\n",
      "filename is :w5.jpg\n",
      "the fulll name of the file is :D:/code/cave/watercolors\\w5.jpg\n",
      "parent is :D:/code/cave/watercolors\n",
      "filename is :w6.jpg\n",
      "the fulll name of the file is :D:/code/cave/watercolors\\w6.jpg\n",
      "parent is :D:/code/cave/watercolors\n",
      "filename is :w7.jpg\n",
      "the fulll name of the file is :D:/code/cave/watercolors\\w7.jpg\n",
      "parent is :D:/code/cave/watercolors\n",
      "filename is :w8.jpg\n",
      "the fulll name of the file is :D:/code/cave/watercolors\\w8.jpg\n",
      "parent is :D:/code/cave/watercolors\n",
      "filename is :w9.jpg\n",
      "the fulll name of the file is :D:/code/cave/watercolors\\w9.jpg\n"
     ]
    }
   ],
   "source": [
    "rootdir = r'D:/code/cave/watercolors'\n",
    "for parent, dirnames, filenames in os.walk(rootdir):\n",
    "    for filename in filenames:\n",
    "        print('parent is :' + parent)\n",
    "        print('filename is :' + filename)\n",
    "        currentPath = os.path.join(parent, filename)\n",
    "        print('the fulll name of the file is :' + currentPath)\n",
    " \n",
    "        im = Image.open(currentPath)\n",
    "        out = im.transpose(Image.FLIP_TOP_BOTTOM)\n",
    "        newname=r\"D:/code/cave/watercolors\"+'\\\\'+filename+'.jpg'\n",
    "        out.save(newname)"
   ]
  },
  {
   "cell_type": "code",
   "execution_count": null,
   "metadata": {},
   "outputs": [],
   "source": []
  }
 ],
 "metadata": {
  "kernelspec": {
   "display_name": "Python 3",
   "language": "python",
   "name": "python3"
  },
  "language_info": {
   "codemirror_mode": {
    "name": "ipython",
    "version": 3
   },
   "file_extension": ".py",
   "mimetype": "text/x-python",
   "name": "python",
   "nbconvert_exporter": "python",
   "pygments_lexer": "ipython3",
   "version": "3.7.4"
  }
 },
 "nbformat": 4,
 "nbformat_minor": 2
}
